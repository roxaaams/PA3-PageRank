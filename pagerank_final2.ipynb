{
 "cells": [
  {
   "cell_type": "code",
   "execution_count": 408,
   "metadata": {},
   "outputs": [],
   "source": [
    "import numpy as np\n",
    "import random\n",
    "import networkx as nx\n",
    "from time import time"
   ]
  },
  {
   "cell_type": "code",
   "execution_count": 2,
   "metadata": {},
   "outputs": [],
   "source": [
    "def calc_M(adj_m):\n",
    "    '''\n",
    "    calculates the pagerank matrix from a given adjacency matrix\n",
    "    \n",
    "    input: adjacency matrix\n",
    "    output: pagerank matrix as csr-matrix\n",
    "    '''\n",
    "    M = np.array(adj_m, dtype = float).T\n",
    "    for i in range(len(M)):\n",
    "        summed = M[:,i].sum()\n",
    "        if summed == 0: continue\n",
    "        M[:,i] *= 1/M[:,i].sum()\n",
    "    return M"
   ]
  },
  {
   "cell_type": "code",
   "execution_count": 63,
   "metadata": {},
   "outputs": [],
   "source": [
    "def pagerank(beta, M, epsilon, r = 0):\n",
    "    '''\n",
    "    calculates pagerank values\n",
    "    epsilon can also be used as \"counter\" if integer\n",
    "    \n",
    "    \n",
    "    input:\n",
    "        r: personalization vector \n",
    "            if integer: r is set to default values\n",
    "        beta: teleportation probability\n",
    "        M: pagerank matrix (has to be csr)\n",
    "        epsilon:\n",
    "            epsilon % 1 = 0: counter for loops\n",
    "            else: allowed error\n",
    "    output: pagerank values\n",
    "    '''\n",
    "    assert(epsilon >= 0)\n",
    "    assert(M.shape[0] == M.shape[1])\n",
    "    if(isinstance(r, int)):\n",
    "        r = np.array([1/M.shape[0]] *M.shape[0], dtype = float).T\n",
    "    r_old = r\n",
    "    while True:\n",
    "        r_new = (M * beta).dot(r_old)\n",
    "        D = r_new.sum()\n",
    "        r_new = r_new + np.array([(1-D)/M.shape[0]] * M.shape[0]).transpose()\n",
    "        if(epsilon % 1 == 0):\n",
    "            if(epsilon == 0):\n",
    "                break\n",
    "            else:\n",
    "                epsilon -= 1\n",
    "        elif(np.linalg.norm(r_new - r_old, ord = 1) < epsilon): \n",
    "            break\n",
    "        r_old = r_new\n",
    "    return r_new"
   ]
  },
  {
   "cell_type": "code",
   "execution_count": 428,
   "metadata": {},
   "outputs": [],
   "source": [
    "def generate(size, add_edges = 0):\n",
    "    '''\n",
    "    generates the simplest strongly connected aperiodic adjacency matrix I could think of\n",
    "    example: size = 3, add_edges = 0\n",
    "        0 1 0\n",
    "        1 0 1\n",
    "        1 1 0\n",
    "    example[2][0] == 1 to ensure aperiodicity\n",
    "    \n",
    "    add edges just adds random, non-loop edges (-> off diagonal) \n",
    "    '''\n",
    "    adj_m = np.zeros((size,size))\n",
    "    adj_m[0][1] = 1\n",
    "    adj_m[-1][-2] = 1\n",
    "    adj_m[-1][0] = 1\n",
    "    for i in range(1, len(adj_m) - 1):\n",
    "        adj_m[i][i+1] = 1\n",
    "        adj_m[i][i-1] = 1\n",
    "    for i in range(add_edges):\n",
    "        rand_1 = random.randint(0,size - 1)\n",
    "        rand_2 = random.randint(0, size - 1)\n",
    "        while(rand_1 == i or rand_2 == i): #no edge to itself\n",
    "            rand_1 = random.randint(0, size - 1)\n",
    "            rand_2 = random.randint(0, size - 1)\n",
    "        adj_m[rand_1][rand_2] = 1\n",
    "    return adj_m"
   ]
  },
  {
   "cell_type": "code",
   "execution_count": 65,
   "metadata": {},
   "outputs": [],
   "source": [
    "def power_it(google_matrix, epsilon):\n",
    "    #breakpoint()\n",
    "    r_old = np.array([1/google_matrix.shape[0]] * google_matrix.shape[0], dtype = float)\n",
    "    while True:\n",
    "        r_new = google_matrix.dot(r_old)\n",
    "        #r_new = np.dot(google_matrix, r)\n",
    "        if(epsilon % 1 == 0):\n",
    "            if(epsilon == 0):\n",
    "                break\n",
    "            else:\n",
    "                epsilon -= 1\n",
    "        elif(abs(r_new - r_old).sum() < epsilon): \n",
    "            break\n",
    "        r_old = r_new\n",
    "        \n",
    "    return r_new"
   ]
  },
  {
   "cell_type": "code",
   "execution_count": 384,
   "metadata": {},
   "outputs": [
    {
     "name": "stdout",
     "output_type": "stream",
     "text": [
      "example from lecture:\n",
      "\n",
      "iterations:  1  \n",
      "  [0.149 0.404 0.149 0.149 0.149]\n",
      "iterations:  2  \n",
      "  [0.22703  0.30863  0.22703  0.118655 0.118655]\n",
      "iterations:  3  \n",
      "  [0.1813391 0.3440036 0.1813391 0.1466591 0.1466591]\n",
      "iterations:  4  \n",
      "  [0.20113358 0.33373052 0.20113358 0.13200116 0.13200116]\n",
      "iterations:  5  \n",
      "  [0.19427567 0.33560473 0.19427567 0.13792197 0.13792197]\n",
      "iterations:  6  \n",
      "  [0.19607874 0.33581473 0.19607874 0.13601389 0.13601389]\n",
      "iterations:  7  \n",
      "  [0.19584362 0.3354011  0.19584362 0.13645583 0.13645583]\n",
      "iterations:  8  \n",
      "  [0.19574296 0.33565202 0.19574296 0.13643103 0.13643103]\n",
      "iterations:  9  \n",
      "  [0.19584538 0.33554117 0.19584538 0.13638403 0.13638403]\n",
      "iterations:  10  \n",
      "  [0.19579028 0.33558029 0.19579028 0.13641957 0.13641957]\n"
     ]
    }
   ],
   "source": [
    "print(\"example from lecture:\\n\")\n",
    "adj_m = np.matrix([[0,1,0,0,0],[1,0,1,0,0],[0,0,0,1,1],[0,0,0,0,0],[0,1,0,0,0]], dtype = float)\n",
    "pr_matrix = calc_M(adj_m)\n",
    "for i in range(10):\n",
    "    print(\"iterations: \", i + 1 ,\" \\n \", pagerank(r = 0, beta = 0.85, M = pr_matrix, epsilon = i))"
   ]
  },
  {
   "cell_type": "code",
   "execution_count": 387,
   "metadata": {},
   "outputs": [
    {
     "name": "stdout",
     "output_type": "stream",
     "text": [
      "example from lecture with varying beta \n",
      "\n",
      "beta =  0.0  \n",
      "  [0.2 0.2 0.2 0.2 0.2]\n",
      "beta =  0.1  \n",
      "  [0.19508 0.22268 0.19508 0.19358 0.19358]\n",
      "beta =  0.2  \n",
      "  [0.1917248 0.2431808 0.1917248 0.1866848 0.1866848]\n",
      "beta =  0.30000000000000004  \n",
      "  [0.1897112 0.2616752 0.1897112 0.1794512 0.1794512]\n",
      "beta =  0.4  \n",
      "  [0.18948915 0.27806259 0.18948915 0.17147955 0.17147955]\n",
      "beta =  0.5  \n",
      "  [0.19007  0.29297  0.19007  0.163445 0.163445]\n",
      "beta =  0.6000000000000001  \n",
      "  [0.19052217 0.30669953 0.19052217 0.15612806 0.15612806]\n",
      "beta =  0.7000000000000001  \n",
      "  [0.19247016 0.31912707 0.19247016 0.14796631 0.14796631]\n",
      "beta =  0.8  \n",
      "  [0.19474787 0.33048035 0.19474787 0.14001195 0.14001195]\n",
      "beta =  0.9  \n",
      "  [0.19718501 0.34033137 0.19718501 0.13264931 0.13264931]\n",
      "beta =  1.0  \n",
      "  [0.20011136 0.34941056 0.20011136 0.12518336 0.12518336]\n"
     ]
    }
   ],
   "source": [
    "print(\"example from lecture with varying beta \\n\")\n",
    "for i in np.arange(0,1.1,0.1):\n",
    "    print(\"beta = \", i ,\" \\n \",pagerank(r = 0, beta = i, M = pr_matrix, epsilon = 0.01))"
   ]
  },
  {
   "cell_type": "code",
   "execution_count": 393,
   "metadata": {},
   "outputs": [
    {
     "name": "stdout",
     "output_type": "stream",
     "text": [
      "lecture example with new personalization vector\n",
      "iterations:  100\n",
      "personalization vector:  [0.9  0.02 0.02 0.02 0.02] \n",
      "\n",
      "beta:  0.0 \n",
      "  [0.2 0.2 0.2 0.2 0.2]\n",
      "beta:  0.1 \n",
      "  [0.19500924 0.22273567 0.19500924 0.19362292 0.19362292]\n",
      "beta:  0.2 \n",
      "  [0.19178082 0.24315068 0.19178082 0.18664384 0.18664384]\n",
      "beta:  0.30000000000000004 \n",
      "  [0.1899841  0.26152623 0.1899841  0.17925278 0.17925278]\n",
      "beta:  0.4 \n",
      "  [0.18934911 0.27810651 0.18934911 0.17159763 0.17159763]\n",
      "beta:  0.5 \n",
      "  [0.18965517 0.29310345 0.18965517 0.1637931  0.1637931 ]\n",
      "beta:  0.6000000000000001 \n",
      "  [0.19072165 0.30670103 0.19072165 0.15592784 0.15592784]\n",
      "beta:  0.7000000000000001 \n",
      "  [0.19240048 0.31905911 0.19240048 0.14806996 0.14806996]\n",
      "beta:  0.8 \n",
      "  [0.19457014 0.33031674 0.19457014 0.14027149 0.14027149]\n",
      "beta:  0.9 \n",
      "  [0.19713071 0.34059511 0.19713071 0.13257173 0.13257173]\n",
      "beta:  1.0 \n",
      "  [0.2   0.35  0.2   0.125 0.125]\n"
     ]
    }
   ],
   "source": [
    "r = np.array([0.9,0.02,0.02,0.02,0.02], dtype = float)\n",
    "print(\"lecture example with new personalization vector\")\n",
    "print(\"iterations: \", 100)\n",
    "print(\"personalization vector: \", r, \"\\n\")\n",
    "for i in np.arange(0,1.1,0.1):\n",
    "    #beta = 0 => outgoing edges always chosen randomly\n",
    "    print(\"beta: \",i, \"\\n \",pagerank(r = r, beta = i, M = pr_matrix, epsilon = 100)) # epsilon = 5 "
   ]
  },
  {
   "cell_type": "code",
   "execution_count": 395,
   "metadata": {},
   "outputs": [
    {
     "name": "stdout",
     "output_type": "stream",
     "text": [
      "lecture example with networks: \n",
      "  {0: 0.1958071483019602, 1: 0.3355711792554186, 2: 0.1958071483019602, 3: 0.13640726207033055, 4: 0.13640726207033055}\n"
     ]
    }
   ],
   "source": [
    "lecture_graph = nx.DiGraph(adj_m)\n",
    "pr_val = nx.pagerank(lecture_graph)\n",
    "print(\"lecture example with networks:\", \"\\n \",pr_val)"
   ]
  },
  {
   "cell_type": "code",
   "execution_count": 398,
   "metadata": {},
   "outputs": [
    {
     "name": "stdout",
     "output_type": "stream",
     "text": [
      "lecture example with network x and verifying alpha\n",
      "alpha:  0.0 \n",
      "  {0: 0.2, 1: 0.2, 2: 0.2, 3: 0.2, 4: 0.2}\n",
      "alpha:  0.1 \n",
      "  {0: 0.19500923744000004, 1: 0.22273567424000004, 2: 0.19500923744000004, 3: 0.19362292544000004, 4: 0.19362292544000004}\n",
      "alpha:  0.2 \n",
      "  {0: 0.19178083205120006, 1: 0.2431506993152001, 2: 0.19178083205120006, 3: 0.18664381829120005, 4: 0.18664381829120005}\n",
      "alpha:  0.30000000000000004 \n",
      "  {0: 0.18998411871987197, 1: 0.261526180051712, 2: 0.18998411871987197, 3: 0.179252791254272, 4: 0.179252791254272}\n",
      "alpha:  0.4 \n",
      "  {0: 0.18934902095347714, 1: 0.27810661596004355, 2: 0.18934902095347714, 3: 0.17159767106650112, 4: 0.17159767106650112}\n",
      "alpha:  0.5 \n",
      "  {0: 0.1896553907, 1: 0.29310328220000004, 2: 0.1896553907, 3: 0.1637929682, 4: 0.1637929682}\n",
      "alpha:  0.6000000000000001 \n",
      "  {0: 0.1907217457756634, 1: 0.30670100504713005, 2: 0.1907217457756634, 3: 0.1559277517007716, 4: 0.1559277517007716}\n",
      "alpha:  0.7000000000000001 \n",
      "  {0: 0.19240035301429034, 1: 0.3190590930876257, 2: 0.19240035301429034, 3: 0.14807010044189692, 4: 0.14807010044189692}\n",
      "alpha:  0.8 \n",
      "  {0: 0.19457022907040158, 1: 0.3303168907493881, 2: 0.19457022907040158, 3: 0.14027132555490437, 4: 0.14027132555490437}\n",
      "alpha:  0.9 \n",
      "  {0: 0.19713088843254434, 1: 0.34059462551782715, 2: 0.19713088843254434, 3: 0.1325717988085422, 4: 0.1325717988085422}\n",
      "alpha:  1.0 \n",
      "  {0: 0.1999996566748529, 1: 0.350000166850003, 2: 0.1999996566748529, 3: 0.12500025990014568, 4: 0.12500025990014568}\n"
     ]
    }
   ],
   "source": [
    "print(\"lecture example with network x and verifying alpha\")\n",
    "for i in np.arange(0,1.1,0.1):\n",
    "    print(\"alpha: \", i, \"\\n \",nx.pagerank(G = lecture_graph, alpha = i))\n",
    "#same results as our implementation                                   "
   ]
  },
  {
   "cell_type": "code",
   "execution_count": 431,
   "metadata": {},
   "outputs": [],
   "source": [
    "size = 10000\n",
    "additional_edges = 5000\n",
    "iterations = 30\n",
    "tol = 0.01"
   ]
  },
  {
   "cell_type": "code",
   "execution_count": 434,
   "metadata": {},
   "outputs": [
    {
     "name": "stdout",
     "output_type": "stream",
     "text": [
      "n =  10000 iterations = 30 epsilon =  0.01 added edges =   500\n",
      "generation:  0.09199714660644531\n",
      "google_matrix calculation:  0.7340009212493896\n",
      "power-iteration with max_iter:  1.1334912776947021\n",
      "pagerank with max_iter:  10.296735525131226\n",
      "power-iteration with epsilon:  0.8160014152526855\n",
      "pagerank with epsilon:  0.7739994525909424\n"
     ]
    }
   ],
   "source": [
    "gen_start = time()\n",
    "test_m = generate(size = size, add_edges = additional_edges) \n",
    "gen_end = time()\n",
    "\n",
    "gm_start = time()\n",
    "google_m = calc_M(test_m)\n",
    "gm_end = time()\n",
    "\n",
    "pii_start = time()\n",
    "powerit = power_it(google_m, epsilon = 30)\n",
    "pii_end = time()\n",
    "\n",
    "pri_start = time()\n",
    "pager = pagerank(beta = 0.85, M = google_m, epsilon = 30)\n",
    "pri_end = time()\n",
    "\n",
    "pit_start = time()\n",
    "powerit2 = power_it(google_m, epsilon = 0.01)\n",
    "pit_end = time()\n",
    "\n",
    "prt_start = time()\n",
    "pager2 = power_it(google_m, epsilon = 0.01)\n",
    "prt_end = time()\n",
    "\n",
    "nx_start = time()\n",
    "nxp = nx.pagerank(nx.DiGraph(test_m))\n",
    "nx_end = time()\n",
    "\n",
    "\n",
    "\n",
    "print(\"n =\", size, \"iterations =\", iterations, \"epsilon =\" tol, \"added edges =\", additional_edges)\n",
    "print(\"generation: \", gen_end - gen_start)\n",
    "print(\"google_matrix calculation: \", gm_end - gm_start)\n",
    "print(\"power-iteration with max_iter: \", pii_end - pii_start)\n",
    "print(\"pagerank with max_iter: \", pri_end - pri_start)\n",
    "print(\"power-iteration with epsilon: \", pit_end - pit_start)\n",
    "print(\"pagerank with epsilon: \", prt_end - prt_start)\n",
    "\n"
   ]
  },
  {
   "cell_type": "code",
   "execution_count": 402,
   "metadata": {},
   "outputs": [],
   "source": [
    "## Never used\n",
    "\n",
    "def generate_adj_m(size, deadends = False, loops = True, max_edges_vertex = 1):\n",
    "    '''\n",
    "    generates adjacency matrx\n",
    "    \n",
    "    input:\n",
    "        size: number of vertices\n",
    "        deadends: ensures vertices with no outgoing edges if true\n",
    "        loops: if false ensures no vertex has an edge to itself\n",
    "        max_edges_vertex: amount of outgoing edges per vertex\n",
    "    \n",
    "    output: adjacency matrix\n",
    "    '''\n",
    "    assert(size > 1)\n",
    "    adj_m = np.zeros((size,size))\n",
    "    for row in adj_m:\n",
    "        for amount_edges in range(random.randint(1,max_edges_vertex)):\n",
    "            row[random.randint(0, size - 1)] = 1\n",
    "    if deadends:\n",
    "        for i in range(0, random.randint(1, size // 2)):\n",
    "            adj_m[random.randint(0, size - 1)] = np.zeros(size)\n",
    "    if(not loops):\n",
    "        for i in range(size):\n",
    "            while(adj_m[i][i]):\n",
    "                adj_m[i][i] = 0\n",
    "                adj_m[i][random.randint(0, size - 1)] = 1\n",
    "        \n",
    "    return adj_m"
   ]
  }
 ],
 "metadata": {
  "kernelspec": {
   "display_name": "Python 3",
   "language": "python",
   "name": "python3"
  },
  "language_info": {
   "codemirror_mode": {
    "name": "ipython",
    "version": 3
   },
   "file_extension": ".py",
   "mimetype": "text/x-python",
   "name": "python",
   "nbconvert_exporter": "python",
   "pygments_lexer": "ipython3",
   "version": "3.8.3"
  }
 },
 "nbformat": 4,
 "nbformat_minor": 4
}
